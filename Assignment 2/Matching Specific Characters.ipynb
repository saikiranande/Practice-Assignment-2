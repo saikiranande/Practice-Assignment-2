{
 "cells": [
  {
   "cell_type": "code",
   "execution_count": 3,
   "id": "3df8074b",
   "metadata": {},
   "outputs": [
    {
     "name": "stdout",
     "output_type": "stream",
     "text": [
      "12dfxsa30Aaxsu,\n",
      "false\n"
     ]
    }
   ],
   "source": [
    "import re\n",
    "regx =r'^[123][120][xs0][30Aa][xsu][.,]$'\n",
    "print(str(bool(re.search(regx, input()))).lower())"
   ]
  },
  {
   "cell_type": "code",
   "execution_count": 4,
   "id": "81ec612c",
   "metadata": {},
   "outputs": [
    {
     "name": "stdout",
     "output_type": "stream",
     "text": [
      "1203x,\n",
      "true\n"
     ]
    }
   ],
   "source": [
    "import re\n",
    "regx =r'^[123][120][xs0][30Aa][xsu][.,]$'\n",
    "print(str(bool(re.search(regx, input()))).lower())"
   ]
  },
  {
   "cell_type": "code",
   "execution_count": null,
   "id": "1a9702f4",
   "metadata": {},
   "outputs": [],
   "source": []
  }
 ],
 "metadata": {
  "kernelspec": {
   "display_name": "Python 3 (ipykernel)",
   "language": "python",
   "name": "python3"
  },
  "language_info": {
   "codemirror_mode": {
    "name": "ipython",
    "version": 3
   },
   "file_extension": ".py",
   "mimetype": "text/x-python",
   "name": "python",
   "nbconvert_exporter": "python",
   "pygments_lexer": "ipython3",
   "version": "3.9.7"
  }
 },
 "nbformat": 4,
 "nbformat_minor": 5
}
