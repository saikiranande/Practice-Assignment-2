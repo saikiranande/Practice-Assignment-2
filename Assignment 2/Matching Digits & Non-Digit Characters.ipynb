{
 "cells": [
  {
   "cell_type": "code",
   "execution_count": 5,
   "id": "ad86d533",
   "metadata": {},
   "outputs": [
    {
     "name": "stdout",
     "output_type": "stream",
     "text": [
      "12-03-1993\n",
      "true\n"
     ]
    }
   ],
   "source": [
    "import re\n",
    "regx = r'\\d\\d\\D\\d\\d\\D\\d\\d\\d\\d'\n",
    "print(str(bool(re.search(regx, input()))).lower())"
   ]
  },
  {
   "cell_type": "code",
   "execution_count": 6,
   "id": "24049a4f",
   "metadata": {},
   "outputs": [
    {
     "name": "stdout",
     "output_type": "stream",
     "text": [
      "12031993\n",
      "false\n"
     ]
    }
   ],
   "source": [
    "import re\n",
    "regx = r'\\d\\d\\D\\d\\d\\D\\d\\d\\d\\d'\n",
    "print(str(bool(re.search(regx, input()))).lower())\n"
   ]
  },
  {
   "cell_type": "code",
   "execution_count": null,
   "id": "9a802d7b",
   "metadata": {},
   "outputs": [],
   "source": []
  },
  {
   "cell_type": "code",
   "execution_count": null,
   "id": "4baecae7",
   "metadata": {},
   "outputs": [],
   "source": []
  }
 ],
 "metadata": {
  "kernelspec": {
   "display_name": "Python 3 (ipykernel)",
   "language": "python",
   "name": "python3"
  },
  "language_info": {
   "codemirror_mode": {
    "name": "ipython",
    "version": 3
   },
   "file_extension": ".py",
   "mimetype": "text/x-python",
   "name": "python",
   "nbconvert_exporter": "python",
   "pygments_lexer": "ipython3",
   "version": "3.9.7"
  }
 },
 "nbformat": 4,
 "nbformat_minor": 5
}
