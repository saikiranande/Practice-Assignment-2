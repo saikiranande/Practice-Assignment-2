{
 "cells": [
  {
   "cell_type": "code",
   "execution_count": 1,
   "id": "ab44608d",
   "metadata": {},
   "outputs": [
    {
     "name": "stdout",
     "output_type": "stream",
     "text": [
      "saiedhkfjdoya\n",
      "Number of matches : 0\n"
     ]
    }
   ],
   "source": [
    "import re\n",
    "regx = r'edyoda'\n",
    "test_string = input()\n",
    "\n",
    "match = re.findall(regx, test_string)\n",
    "\n",
    "print(\"Number of matches :\", len(match))"
   ]
  },
  {
   "cell_type": "code",
   "execution_count": 2,
   "id": "aa5e55ea",
   "metadata": {},
   "outputs": [
    {
     "name": "stdout",
     "output_type": "stream",
     "text": [
      "kiranedyoda\n",
      "Number of matches : 1\n"
     ]
    }
   ],
   "source": [
    "import re\n",
    "regx = r'edyoda'\n",
    "test_string = input()\n",
    "\n",
    "match = re.findall(regx, test_string)\n",
    "\n",
    "print(\"Number of matches :\", len(match))"
   ]
  },
  {
   "cell_type": "code",
   "execution_count": null,
   "id": "849d15b4",
   "metadata": {},
   "outputs": [],
   "source": []
  }
 ],
 "metadata": {
  "kernelspec": {
   "display_name": "Python 3 (ipykernel)",
   "language": "python",
   "name": "python3"
  },
  "language_info": {
   "codemirror_mode": {
    "name": "ipython",
    "version": 3
   },
   "file_extension": ".py",
   "mimetype": "text/x-python",
   "name": "python",
   "nbconvert_exporter": "python",
   "pygments_lexer": "ipython3",
   "version": "3.9.7"
  }
 },
 "nbformat": 4,
 "nbformat_minor": 5
}
