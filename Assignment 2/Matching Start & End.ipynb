{
 "cells": [
  {
   "cell_type": "code",
   "execution_count": 2,
   "id": "f908e90f",
   "metadata": {},
   "outputs": [
    {
     "name": "stdout",
     "output_type": "stream",
     "text": [
      "1wert.\n",
      "True\n"
     ]
    }
   ],
   "source": [
    "import re\n",
    "regx = r\"^[0-9][0-9a-zA-Z]{4}.$\"\n",
    "print(str(bool(re.search(regx,input()))))"
   ]
  },
  {
   "cell_type": "code",
   "execution_count": null,
   "id": "8076ac15",
   "metadata": {},
   "outputs": [],
   "source": []
  }
 ],
 "metadata": {
  "kernelspec": {
   "display_name": "Python 3 (ipykernel)",
   "language": "python",
   "name": "python3"
  },
  "language_info": {
   "codemirror_mode": {
    "name": "ipython",
    "version": 3
   },
   "file_extension": ".py",
   "mimetype": "text/x-python",
   "name": "python",
   "nbconvert_exporter": "python",
   "pygments_lexer": "ipython3",
   "version": "3.9.7"
  }
 },
 "nbformat": 4,
 "nbformat_minor": 5
}
