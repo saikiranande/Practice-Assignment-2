{
 "cells": [
  {
   "cell_type": "code",
   "execution_count": 14,
   "id": "f9fbaaa7",
   "metadata": {},
   "outputs": [
    {
     "name": "stdout",
     "output_type": "stream",
     "text": [
      "[0, 1, 1, 8, 27, 125]\n"
     ]
    }
   ],
   "source": [
    "cube = lambda x : x**3\n",
    "def fibonacci(n):\n",
    "    num=[0,1]\n",
    "    for i in range(2,n):\n",
    "        num.append(num[i-1]+num[i-2])\n",
    "    return num[0:n]\n",
    "n = 6\n",
    "print(list(map(cube, fibonacci(n))))"
   ]
  },
  {
   "cell_type": "code",
   "execution_count": null,
   "id": "e8f4b17b",
   "metadata": {},
   "outputs": [],
   "source": []
  }
 ],
 "metadata": {
  "kernelspec": {
   "display_name": "Python 3 (ipykernel)",
   "language": "python",
   "name": "python3"
  },
  "language_info": {
   "codemirror_mode": {
    "name": "ipython",
    "version": 3
   },
   "file_extension": ".py",
   "mimetype": "text/x-python",
   "name": "python",
   "nbconvert_exporter": "python",
   "pygments_lexer": "ipython3",
   "version": "3.9.7"
  }
 },
 "nbformat": 4,
 "nbformat_minor": 5
}
