{
 "cells": [
  {
   "cell_type": "code",
   "execution_count": 2,
   "id": "1db6b614",
   "metadata": {},
   "outputs": [
    {
     "name": "stdout",
     "output_type": "stream",
     "text": [
      "a2A2A\n",
      "true\n"
     ]
    }
   ],
   "source": [
    "import re\n",
    "regx = r'^[a-z][1-9][^a-z][^A-Z][A-Z]'\n",
    "print(str(bool(re.search(regx, input()))).lower())"
   ]
  },
  {
   "cell_type": "code",
   "execution_count": 3,
   "id": "081fb32c",
   "metadata": {},
   "outputs": [
    {
     "name": "stdout",
     "output_type": "stream",
     "text": [
      "s23A4\n",
      "false\n"
     ]
    }
   ],
   "source": [
    "import re\n",
    "regx = r'^[a-z][1-9][^a-z][^A-Z][A-Z]'\n",
    "print(str(bool(re.search(regx, input()))).lower())"
   ]
  },
  {
   "cell_type": "code",
   "execution_count": null,
   "id": "8aea55aa",
   "metadata": {},
   "outputs": [],
   "source": []
  }
 ],
 "metadata": {
  "kernelspec": {
   "display_name": "Python 3 (ipykernel)",
   "language": "python",
   "name": "python3"
  },
  "language_info": {
   "codemirror_mode": {
    "name": "ipython",
    "version": 3
   },
   "file_extension": ".py",
   "mimetype": "text/x-python",
   "name": "python",
   "nbconvert_exporter": "python",
   "pygments_lexer": "ipython3",
   "version": "3.9.7"
  }
 },
 "nbformat": 4,
 "nbformat_minor": 5
}
